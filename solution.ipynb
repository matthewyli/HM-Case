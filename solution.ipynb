{
  "nbformat": 4,
  "nbformat_minor": 0,
  "metadata": {
    "colab": {
      "provenance": []
    },
    "kernelspec": {
      "name": "python3",
      "display_name": "Python 3"
    },
    "language_info": {
      "name": "python"
    }
  },
  "cells": [
    {
      "cell_type": "markdown",
      "source": [
        "Inputs:\n",
        "- model A/B: the article item, week for each row, amount that should be stocked in the week, market that it is being shipped to, number of pieces to be shipped\n",
        "\n",
        "Goal:\n",
        "- return the better model judged by: 1) Whether the model provides enough stock for each week 2) Whether the model doesn't overpredict the amount of stock needed\n",
        "\n",
        "Steps/Thoughts:\n",
        "- It is more harmful to the company's profits to not have an item in stock than to have an overfill of items.\n",
        "    - calculate margins and then calculate possible sale price + discount for environmentally harmful effects"
      ],
      "metadata": {
        "id": "z80QQA5jlFc9"
      }
    },
    {
      "cell_type": "code",
      "execution_count": null,
      "metadata": {
        "colab": {
          "base_uri": "https://localhost:8080/"
        },
        "id": "FD0uNu92k6xc",
        "outputId": "b1f69f74-d7c9-49f0-f28c-4fdf25759888"
      },
      "outputs": [
        {
          "output_type": "stream",
          "name": "stdout",
          "text": [
            "Actual Sales:\n",
            "   article_id  week_nb market  actual_sales_pcs\n",
            "0     1744192   201817     BE                10\n",
            "1     1744192   201818     BE                53\n",
            "2     1744192   201819     BE               103\n",
            "3     1744192   201820     BE               199\n",
            "4     1744192   201821     BE               280 \n",
            "\n",
            "Article Hierarchy:\n",
            "   article_id department_name section_name\n",
            "0     1744192    Department_F   Section_03\n",
            "1     1744194    Department_F   Section_03\n",
            "2     1748689    Department_F   Section_03\n",
            "3     1748690    Department_F   Section_03\n",
            "4     1751367    Department_B   Section_01 \n",
            "\n",
            "Model A Predictions:\n",
            "   article_id  week_nb market  sales_prediction_pcs  order_suggestion_pcs\n",
            "0     1744192   201818     DE                   260                 18826\n",
            "1     1744192   201819     DE                   820                     0\n",
            "2     1744192   201820     DE                   929                     0\n",
            "3     1744192   201821     DE                  1226                     0\n",
            "4     1744192   201822     DE                  1174                     0 \n",
            "\n",
            "Model B Predictions:\n",
            "   article_id  week_nb market  sales_prediction_pcs  order_suggestion_pcs\n",
            "0     1744192   201820     GB                   260                  9258\n",
            "1     1744192   201821     GB                   660                     0\n",
            "2     1744192   201822     GB                   767                     0\n",
            "3     1744192   201823     GB                   793                     0\n",
            "4     1744192   201824     GB                   809                  7075 \n",
            "\n",
            "Price and Cost:\n",
            "   article_id  cost_sek  price_sek\n",
            "0     1744192        36      199.0\n",
            "1     1744194        35      199.0\n",
            "2     1748689        64      299.0\n",
            "3     1748690        64      299.0\n",
            "4     1751367       100      399.0 \n",
            "\n"
          ]
        }
      ],
      "source": [
        "import pandas as pd\n",
        "\n",
        "# Load the datasets into the program\n",
        "actual_sales = pd.read_csv('Actual_sales.csv')\n",
        "article_hierarchy = pd.read_csv('article_hierarchy.csv')\n",
        "model_A = pd.read_csv('model_A.csv')\n",
        "model_B = pd.read_csv('model_B.csv')\n",
        "price_and_cost = pd.read_csv('price_and_cost.csv')\n",
        "\n",
        "# Show the first couple of rows for better side-by-side visualization\n",
        "datasets = {\n",
        "    \"Actual Sales\": actual_sales,\n",
        "    \"Article Hierarchy\": article_hierarchy,\n",
        "    \"Model A Predictions\": model_A,\n",
        "    \"Model B Predictions\": model_B,\n",
        "    \"Price and Cost\": price_and_cost\n",
        "}\n",
        "\n",
        "\n",
        "for name, df in datasets.items():\n",
        "    print(f\"{name}:\")\n",
        "    print(df.head(), \"\\n\")\n"
      ]
    },
    {
      "cell_type": "code",
      "source": [
        "from sklearn.metrics import mean_absolute_error, mean_squared_error\n",
        "import numpy as np\n",
        "\n",
        "# Merge the actual sales data with the predictions from both models for better comparison for backtesting\n",
        "merged_A = actual_sales.merge(model_A, on=[\"article_id\", \"week_nb\", \"market\"], how=\"inner\")\n",
        "merged_B = actual_sales.merge(model_B, on=[\"article_id\", \"week_nb\", \"market\"], how=\"inner\")\n",
        "\n",
        "# Calculate accuracy metrics for Model A through mean absolute error and mean squared error\n",
        "mae_A = mean_absolute_error(merged_A['actual_sales_pcs'], merged_A['sales_prediction_pcs'])\n",
        "rmse_A = np.sqrt(mean_squared_error(merged_A['actual_sales_pcs'], merged_A['sales_prediction_pcs']))\n",
        "\n",
        "# Calculate accuracy metrics for Model B through mean absolute error and mean squared error\n",
        "mae_B = mean_absolute_error(merged_B['actual_sales_pcs'], merged_B['sales_prediction_pcs'])\n",
        "rmse_B = np.sqrt(mean_squared_error(merged_B['actual_sales_pcs'], merged_B['sales_prediction_pcs']))\n",
        "\n",
        "print('The mean absolute error for model A was {} and the mean squared error was {}'.format(mae_A, rmse_A))\n",
        "print('The mean absolute error for model B was {} and the mean squared error was {}'.format(mae_B, rmse_B))"
      ],
      "metadata": {
        "colab": {
          "base_uri": "https://localhost:8080/"
        },
        "id": "p8-ykbxRA5mI",
        "outputId": "ec43f702-feff-4645-9d82-6ecc2c8a52bb"
      },
      "execution_count": null,
      "outputs": [
        {
          "output_type": "stream",
          "name": "stdout",
          "text": [
            "The mean absolute error for model A was 96.66668935629524 and the mean squared error was 174.62603852147305\n",
            "The mean absolute error for model B was 102.1540625779956 and the mean squared error was 196.24997383827844\n"
          ]
        }
      ]
    },
    {
      "cell_type": "markdown",
      "source": [
        "Here, we see our first performance metric and we can see that the error for model A is slightly lower than that of model B. However, just looking off of error, it doesn't seem like either of the models are too different and we want to look for more differentiable factors."
      ],
      "metadata": {
        "id": "m-w6NP9XEAjL"
      }
    },
    {
      "cell_type": "code",
      "source": [
        "# Assumption: the stock starts at 0\n",
        "\n",
        "# Function to calculate weekly stock based on order suggestions and actual sales for each model\n",
        "def calculate_stock_levels(merged_df):\n",
        "    # Sort by article, market, and week to ensure chronological order for stock calculation\n",
        "    sorted_df = merged_df.sort_values(by=[\"article_id\", \"market\", \"week_nb\"])\n",
        "\n",
        "    # Using .groupby() and .cumsum() to accumulate values within each group and then subtract the necessary values from the sorted dataframe\n",
        "    sorted_df[\"stock_level\"] = sorted_df.groupby([\"article_id\", \"market\"])[\"order_suggestion_pcs\"].cumsum() - sorted_df.groupby([\"article_id\", \"market\"])[\"actual_sales_pcs\"].cumsum()\n",
        "    sorted_df[\"stock_level\"] = sorted_df[\"stock_level\"].shift(1, fill_value=0)  # Shift stock levels to represent end of week stock of each item\n",
        "    sorted_df[\"stock_out\"] = sorted_df[\"stock_level\"] < 0  # Identify if the stock ever goes below 0, meaning that it is it violates the first condition stated in the case prompt\n",
        "\n",
        "    return sorted_df\n",
        "\n",
        "stock_levels_A = calculate_stock_levels(merged_A)\n",
        "stock_levels_B = calculate_stock_levels(merged_B)\n",
        "\n",
        "# Calculate understock moments and potential lost sales according to these moments\n",
        "stock_outs_A = stock_levels_A[\"stock_out\"].sum()\n",
        "lost_sales_potential_A = stock_levels_A[stock_levels_A[\"stock_out\"]][\"actual_sales_pcs\"].sum()\n",
        "\n",
        "stock_outs_B = stock_levels_B[\"stock_out\"].sum()\n",
        "lost_sales_potential_B = stock_levels_B[stock_levels_B[\"stock_out\"]][\"actual_sales_pcs\"].sum()\n",
        "\n",
        "print('The number of moments that model A was understocked was {} and the resulting lost profit was {}.'.format(stock_outs_A, lost_sales_potential_A))\n",
        "print('The number of moments that model B was understocked was {} and the resulting lost profit was {}.'.format(stock_outs_B, lost_sales_potential_B))\n"
      ],
      "metadata": {
        "colab": {
          "base_uri": "https://localhost:8080/"
        },
        "id": "SQRnfOJKA7_r",
        "outputId": "561d7748-500a-4f09-ee35-2f1f0eb1283f"
      },
      "execution_count": null,
      "outputs": [
        {
          "output_type": "stream",
          "name": "stdout",
          "text": [
            "The number of moments that model A was understocked was 2 and the resulting lost profit was 3.\n",
            "The number of moments that model B was understocked was 3 and the resulting lost profit was 124.\n"
          ]
        }
      ]
    },
    {
      "cell_type": "markdown",
      "source": [
        "We have calculated our first 'significant' difference as the resulting stock outages created a much larger loss of profit for model B. However, in the grand scheme of this case, the overall revenue of the products in this line are likely more than 1000x the loss of profit. As a result, this is still relatively insignificant."
      ],
      "metadata": {
        "id": "y7ET0BcHFFwR"
      }
    },
    {
      "cell_type": "code",
      "source": [
        "import matplotlib.pyplot as plt\n",
        "import seaborn as sns\n",
        "\n",
        "# Calculate absolute errors for both models\n",
        "merged_A['abs_error'] = abs(merged_A['actual_sales_pcs'] - merged_A['sales_prediction_pcs'])\n",
        "merged_B['abs_error'] = abs(merged_B['actual_sales_pcs'] - merged_B['sales_prediction_pcs'])\n",
        "\n",
        "# Additionally, let's analyze the mean absolute error across different article hierarchies and markets\n",
        "merged_A_with_hierarchy = pd.merge(merged_A, article_hierarchy, on=\"article_id\", how=\"left\")\n",
        "merged_B_with_hierarchy = pd.merge(merged_B, article_hierarchy, on=\"article_id\", how=\"left\")\n",
        "\n",
        "# Calculate mean absolute error by department and section for Model A\n",
        "mae_by_department_A = merged_A_with_hierarchy.groupby('department_name')['abs_error'].mean().sort_values(ascending=False)\n",
        "mae_by_section_A = merged_A_with_hierarchy.groupby('section_name')['abs_error'].mean().sort_values(ascending=False)\n",
        "\n",
        "# Do the same for Model B\n",
        "mae_by_department_B = merged_B_with_hierarchy.groupby('department_name')['abs_error'].mean().sort_values(ascending=False)\n",
        "mae_by_section_B = merged_B_with_hierarchy.groupby('section_name')['abs_error'].mean().sort_values(ascending=False)"
      ],
      "metadata": {
        "id": "ZA9jLbnfC8tO"
      },
      "execution_count": null,
      "outputs": []
    },
    {
      "cell_type": "markdown",
      "source": [
        "In order to get a more in-depth analysis, I attempted to split the items down into their departments to get a more detailed analysis. However, the numbers are still relatively similar across all of the departments, even on comparison and visually on the graph (the blue and orange barely leave each other)."
      ],
      "metadata": {
        "id": "A1NrTIOhFnpv"
      }
    },
    {
      "cell_type": "code",
      "source": [
        "merged_A['abs_error'] = merged_A['abs_error'].astype(float)\n",
        "merged_B['abs_error'] = merged_B['abs_error'].astype(float)\n",
        "\n",
        "# Now, let's attempt to visualize the distribution of errors\n",
        "plt.figure(figsize=(12, 6))\n",
        "\n",
        "try:\n",
        "    sns.kdeplot(merged_A['abs_error'], label='Model A', fill=True)\n",
        "    sns.kdeplot(merged_B['abs_error'], label='Model B', fill=True)\n",
        "\n",
        "    plt.title('Distribution of Absolute Errors')\n",
        "    plt.xlabel('Absolute Error (in pcs)')\n",
        "    plt.ylabel('Density')\n",
        "    plt.legend()\n",
        "    plt.show()\n",
        "except Exception as e:\n",
        "    print(f\"An error occurred: {e}\")\n",
        "\n",
        "# Calculate mean absolute error by department and section for Model A\n",
        "mae_by_department_A = merged_A_with_hierarchy.groupby('department_name')['abs_error'].mean().sort_values(ascending=False)\n",
        "mae_by_section_A = merged_A_with_hierarchy.groupby('section_name')['abs_error'].mean().sort_values(ascending=False)\n",
        "\n",
        "# Do the same for Model B\n",
        "mae_by_department_B = merged_B_with_hierarchy.groupby('department_name')['abs_error'].mean().sort_values(ascending=False)\n",
        "mae_by_section_B = merged_B_with_hierarchy.groupby('section_name')['abs_error'].mean().sort_values(ascending=False)"
      ],
      "metadata": {
        "colab": {
          "base_uri": "https://localhost:8080/",
          "height": 564
        },
        "id": "vD7bp1vuC_iY",
        "outputId": "eccf59eb-2665-4313-97a2-ae005655de86"
      },
      "execution_count": null,
      "outputs": [
        {
          "output_type": "display_data",
          "data": {
            "text/plain": [
              "<Figure size 1200x600 with 1 Axes>"
            ],
            "image/png": "[encoded data removed]"
          },
          "metadata": {}
        }
      ]
    },
    {
      "cell_type": "code",
      "source": [
        "# Correctly merging the error data with the article hierarchy for this analysis\n",
        "merged_A_with_hierarchy = pd.merge(merged_A[['article_id', 'abs_error']], article_hierarchy, on=\"article_id\", how=\"left\")\n",
        "merged_B_with_hierarchy = pd.merge(merged_B[['article_id', 'abs_error']], article_hierarchy, on=\"article_id\", how=\"left\")\n",
        "\n",
        "# Recalculating mean absolute error by department and section for Model A\n",
        "mae_by_department_A = merged_A_with_hierarchy.groupby('department_name')['abs_error'].mean().sort_values(ascending=False)\n",
        "mae_by_section_A = merged_A_with_hierarchy.groupby('section_name')['abs_error'].mean().sort_values(ascending=False)\n",
        "\n",
        "# Recalculating mean absolute error by department and section for Model B\n",
        "mae_by_department_B = merged_B_with_hierarchy.groupby('department_name')['abs_error'].mean().sort_values(ascending=False)\n",
        "mae_by_section_B = merged_B_with_hierarchy.groupby('section_name')['abs_error'].mean().sort_values(ascending=False)\n",
        "\n",
        "\n",
        "\n",
        "print('model A by department: \\n', mae_by_department_A.head(), mae_by_section_A.head())\n",
        "print('\\n\\n\\nmodel B by department: \\n', mae_by_department_B.head(), mae_by_section_B.head())"
      ],
      "metadata": {
        "colab": {
          "base_uri": "https://localhost:8080/"
        },
        "id": "HR2HE1Tfli1s",
        "outputId": "00e135db-a814-4fd9-ebf3-a4d9614cbfe7"
      },
      "execution_count": null,
      "outputs": [
        {
          "output_type": "stream",
          "name": "stdout",
          "text": [
            "model A by department: \n",
            " department_name\n",
            "Department_F    186.105363\n",
            "Department_C    104.525802\n",
            "Department_D    101.171794\n",
            "Department_E     84.815238\n",
            "Department_B     80.005353\n",
            "Name: abs_error, dtype: float64 section_name\n",
            "Section_01    100.266872\n",
            "Section_03     96.586889\n",
            "Section_02     90.297381\n",
            "Name: abs_error, dtype: float64\n",
            "\n",
            "\n",
            "\n",
            "model B by department: \n",
            " department_name\n",
            "Department_F    198.726151\n",
            "Department_C    112.056769\n",
            "Department_D    103.967438\n",
            "Department_E     89.116835\n",
            "Department_B     78.271776\n",
            "Name: abs_error, dtype: float64 section_name\n",
            "Section_01    106.188691\n",
            "Section_03    103.783970\n",
            "Section_02     94.094235\n",
            "Name: abs_error, dtype: float64\n"
          ]
        }
      ]
    },
    {
      "cell_type": "markdown",
      "source": [
        "The next step is to calculate the negative effects of overstocking. While we have seen from the previous two steps that model A is slightly better than model B and keeps enough items in stock better, this indicator might tell us more information."
      ],
      "metadata": {
        "id": "Xt9Zb_ZkGtes"
      }
    },
    {
      "cell_type": "code",
      "source": [
        "# Assume an arbitrary sale discount of 50% for end-of-season sales to clear overstock\n",
        "sale_discount = 0.5\n",
        "\n",
        "# Calculate initial potential revenue from lost sales due to stockouts\n",
        "potential_revenue_loss = lost_sales_potential_A * price_and_cost.set_index('article_id').loc[merged_A['article_id']]['price_sek'].mean()\n",
        "\n",
        "# Calculate the end-of-season overstock quantity\n",
        "overstock_quantity_A = merged_A['order_suggestion_pcs'].sum() - merged_A['actual_sales_pcs'].sum()\n",
        "\n",
        "# Calculate the financial cost of overstock\n",
        "overstock_revenue_loss = overstock_quantity_A * price_and_cost['price_sek'].mean() * sale_discount\n",
        "\n",
        "print('For model A, the potential revenue loss from stockouts is {} and the overstock quantity is {}. This leads to a revenue loss of {}'.format(potential_revenue_loss, overstock_quantity_A, overstock_revenue_loss))\n",
        "\n",
        "# Calculate initial potential revenue from lost sales due to stockouts for Model B (using regular price)\n",
        "potential_revenue_loss_B = lost_sales_potential_B * price_and_cost.set_index('article_id').loc[merged_B['article_id']]['price_sek'].mean()\n",
        "\n",
        "# Calculate the end-of-season overstock quantity for Model B (assuming all unsold items are overstock)\n",
        "overstock_quantity_B = merged_B['order_suggestion_pcs'].sum() - merged_B['actual_sales_pcs'].sum()\n",
        "\n",
        "# Calculate the financial cost of overstock for Model B (revenue lost due to selling at a discount)\n",
        "overstock_revenue_loss_B = overstock_quantity_B * price_and_cost['price_sek'].mean() * sale_discount\n",
        "\n",
        "print('For model B, the potential revenue loss from stockouts is {} and the overstock quantity is {}. This leads to a revenue loss of {}'.format(potential_revenue_loss_B, overstock_quantity_B, overstock_revenue_loss_B))"
      ],
      "metadata": {
        "colab": {
          "base_uri": "https://localhost:8080/"
        },
        "id": "eu0uchE5DD3a",
        "outputId": "1dd5e1e5-7474-4129-f327-89b27a86e4e8"
      },
      "execution_count": null,
      "outputs": [
        {
          "output_type": "stream",
          "name": "stdout",
          "text": [
            "For model A, the potential revenue loss from stockouts is 715.1897456224207 and the overstock quantity is 5809001. This leads to a revenue loss of 676717301.1307278\n",
            "For model B, the potential revenue loss from stockouts is 29561.17615239339 and the overstock quantity is 4974510. This leads to a revenue loss of 579503598.2345014\n"
          ]
        }
      ]
    },
    {
      "cell_type": "markdown",
      "source": [
        "- Lost Sales Revenue: Model B had a much higher potential revenue loss due to stockouts (SEK 29,561.18) compared to Model A (SEK 715.19), indicating Model B may not be as effective in avoiding stockouts.\n",
        "- Overstock Quantity: Model A had a higher overstock quantity (5,809,001 pieces) compared to Model B (4,974,510 pieces), suggesting Model A might be more conservative in its ordering, leading to more overstock.\n",
        "- Financial Cost of Overstock: The financial impact of overstock was also higher for Model A (SEK 676,717,301) compared to Model B (SEK 579,503,598), reflecting the higher overstock quantity.\n",
        "\n",
        "Conclusion: Winner is model B\n",
        "While Model A offers better sales predictions and might be more effective in minimizing lost sales revenue, it also leads to a higher financial and environmental cost due to overstock. Model B, despite its shortcomings in preventing stockouts, results in less overstock and associated costs. As a result, despite the fact that model B seems to be less accurate at predicting sales and leads to more stockouts, it is more environmentally friendly and results in less loss of revenue due to less overstocking."
      ],
      "metadata": {
        "id": "fwMa8ev7HfaT"
      }
    }
  ]
}